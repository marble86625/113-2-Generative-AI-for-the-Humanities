{
  "nbformat": 4,
  "nbformat_minor": 0,
  "metadata": {
    "colab": {
      "provenance": [],
      "include_colab_link": true
    },
    "kernelspec": {
      "name": "python3",
      "display_name": "Python 3"
    },
    "language_info": {
      "name": "python"
    }
  },
  "cells": [
    {
      "cell_type": "markdown",
      "metadata": {
        "id": "view-in-github",
        "colab_type": "text"
      },
      "source": [
        "<a href=\"https://colab.research.google.com/github/marble86625/113-2-Generative-AI-for-the-Humanities/blob/main/HW4_%E8%B3%87%E6%95%99%E6%89%80%E7%A2%A9%E4%B8%80%E5%BC%B5%E9%9F%BB%E6%BD%94.ipynb\" target=\"_parent\"><img src=\"https://colab.research.google.com/assets/colab-badge.svg\" alt=\"Open In Colab\"/></a>"
      ]
    },
    {
      "cell_type": "markdown",
      "source": [
        "# HW4_程式練習 (II)"
      ],
      "metadata": {
        "id": "bQ6YkMLxXGQt"
      }
    },
    {
      "cell_type": "markdown",
      "source": [
        "## 題目一 (25%)\n",
        "\n",
        "\n",
        "以下有一個 list：\n",
        "\n",
        "```\n",
        "numbers = [51, 30, 78, 20, 96, 40, 62]\n",
        "```\n",
        "\n",
        "### 任務內容\n",
        "1. 印出該 list 中的第 1 個數字、第 3 個數字與最後一個數字。\n",
        "2. 印出 list 中的最大值與最小值。\n",
        "3. 將 list 中的數字由小到大排序後印出。\n",
        "4. 計算並印出總和與平均值（平均值保留到小數點第 2 位）。\n",
        "5. 將大於等於 50 的數字存入新的 list，並印出此 list。\n",
        "\n",
        "\n"
      ],
      "metadata": {
        "id": "kXpZGNHGXhs1"
      }
    },
    {
      "cell_type": "code",
      "execution_count": null,
      "metadata": {
        "id": "zSvt9ox6WwQe",
        "colab": {
          "base_uri": "https://localhost:8080/"
        },
        "outputId": "ff776ab6-53e4-4461-eb09-e59f4077bb35"
      },
      "outputs": [
        {
          "output_type": "stream",
          "name": "stdout",
          "text": [
            "51\n",
            "78\n",
            "62\n"
          ]
        }
      ],
      "source": [
        "numbers = [51, 30, 78, 20, 96, 40, 62]\n",
        "\n",
        "#問題一：印出該 list 中的第 1 個數字、第 3 個數字與最後一個數字。\n",
        "print(numbers[0])\n",
        "print(numbers[2])\n",
        "print(numbers[-1])"
      ]
    },
    {
      "cell_type": "code",
      "source": [
        "#問題二：印出 list 中的最大值與最小值。\n",
        "print(max(numbers))\n",
        "print(min(numbers))"
      ],
      "metadata": {
        "colab": {
          "base_uri": "https://localhost:8080/"
        },
        "id": "NO4H_3Wiy1A4",
        "outputId": "1a52dc77-24a4-45b9-93a0-a60099a5f4ce"
      },
      "execution_count": null,
      "outputs": [
        {
          "output_type": "stream",
          "name": "stdout",
          "text": [
            "96\n",
            "20\n"
          ]
        }
      ]
    },
    {
      "cell_type": "code",
      "source": [
        "#問題三：將 list 中的數字由小到大排序後印出。\n",
        "\n",
        "print(sorted(numbers))\n",
        "\n",
        "# 如果要大到小\n",
        "print(sorted(numbers, reverse = True))"
      ],
      "metadata": {
        "colab": {
          "base_uri": "https://localhost:8080/"
        },
        "id": "BL6GjOMfy-tZ",
        "outputId": "25a24930-e93c-49bf-b0cb-4cd25897a552"
      },
      "execution_count": null,
      "outputs": [
        {
          "output_type": "stream",
          "name": "stdout",
          "text": [
            "[20, 30, 40, 51, 62, 78, 96]\n",
            "[96, 78, 62, 51, 40, 30, 20]\n"
          ]
        }
      ]
    },
    {
      "cell_type": "code",
      "source": [
        "# 問題四：計算並印出總和與平均值（平均值保留到小數點第 2 位）。\n",
        "total_sum = sum(numbers)\n",
        "print(f\"{total_sum:.2f}\")\n",
        "\n",
        "average = total_sum / len(numbers)\n",
        "print(round(average, 2))"
      ],
      "metadata": {
        "colab": {
          "base_uri": "https://localhost:8080/"
        },
        "id": "1KQwBJNAzc-T",
        "outputId": "2e077f93-f10c-49f9-dba0-2ee556bcf4fe"
      },
      "execution_count": null,
      "outputs": [
        {
          "output_type": "stream",
          "name": "stdout",
          "text": [
            "377.00\n",
            "53.86\n"
          ]
        }
      ]
    },
    {
      "cell_type": "markdown",
      "source": [
        "## 題目二 (25%)\n",
        "\n",
        "以下為一個包含亞洲國家及其首都的字典，但其中有一些錯誤資訊：\n",
        "\n",
        "```\n",
        "asian_countries = {\n",
        "    'Taiwan': 'Taipei',\n",
        "    'Japan': 'Tokyo',\n",
        "    'South Korea': 'Seoul',\n",
        "    'Myanmar': 'Yangon',\n",
        "    'Germany': 'Berlin'\n",
        "    }\n",
        "```\n",
        "\n",
        "### 任務內容\n",
        "1. 將 `asian_countries` 印出來：\n",
        "```\n",
        "print('舊字典:', asian_countries)\n",
        "```\n",
        "2.  更新 `asian_countries`：\n",
        "    - 將 Myanmar 的首都更正為 Naypyidaw\n",
        "    - 將 Germany 從字典中移除\n",
        "    - 將 Thailand 及其首都 Bangkok 新增到字典中\n",
        "\n",
        "  ```\n",
        "  print('新字典:', asian_countries)\n",
        "  ```\n",
        "3. 將國家按照字母排序，並將排序後的結果指派給一個變數 `sorted_asian_countries` 。\n",
        "  ```\n",
        "  print('排序後新字典:', sorted_asian_countries)\n",
        "  ```"
      ],
      "metadata": {
        "id": "jbgV6MGtXidj"
      }
    },
    {
      "cell_type": "code",
      "source": [
        "asian_countries = {\n",
        "    'Taiwan': 'Taipei',\n",
        "    'Japan': 'Tokyo',\n",
        "    'South Korea': 'Seoul',\n",
        "    'Myanmar': 'Yangon',\n",
        "    'Germany': 'Berlin'\n",
        "    }"
      ],
      "metadata": {
        "id": "Tq6zcAohXi6P"
      },
      "execution_count": null,
      "outputs": []
    },
    {
      "cell_type": "code",
      "source": [
        "# 問題一：將 asian_countries 印出來\n",
        "\n",
        "print(\"舊字典：\", asian_countries)"
      ],
      "metadata": {
        "colab": {
          "base_uri": "https://localhost:8080/"
        },
        "id": "NthJHWuO1mMa",
        "outputId": "1387ae13-59b3-4146-baf6-c81b8642d214"
      },
      "execution_count": null,
      "outputs": [
        {
          "output_type": "stream",
          "name": "stdout",
          "text": [
            "舊字典： {'Taiwan': 'Taipei', 'Japan': 'Tokyo', 'South Korea': 'Seoul', 'Myanmar': 'Yangon', 'Germany': 'Berlin'}\n"
          ]
        }
      ]
    },
    {
      "cell_type": "code",
      "source": [
        "# 問題二 更新 asian_countries：\n",
        "\n",
        "asian_countries['Myanmar'] = 'Naypyidaw'\n",
        "asian_countries.pop('Germany')\n",
        "asian_countries['Thailand']= 'Bangkok'\n",
        "\n",
        "print('新字典：', asian_countries)"
      ],
      "metadata": {
        "colab": {
          "base_uri": "https://localhost:8080/"
        },
        "id": "Ucho0IjF1zcK",
        "outputId": "e235e319-c0b7-468a-dcfe-b4fdbb89d2a5"
      },
      "execution_count": null,
      "outputs": [
        {
          "output_type": "stream",
          "name": "stdout",
          "text": [
            "新字典： {'Taiwan': 'Taipei', 'Japan': 'Tokyo', 'South Korea': 'Seoul', 'Myanmar': 'Naypyidaw', 'Thailand': 'Bangkok'}\n"
          ]
        }
      ]
    },
    {
      "cell_type": "code",
      "source": [
        "# 問題三：將國家按照字母排序，並將排序後的結果指派給一個變數 sorted_asian_countries 。\n",
        "sorted_asian_countries = sorted(asian_countries)\n",
        "print('排序後新字典：', sorted_asian_countries)"
      ],
      "metadata": {
        "colab": {
          "base_uri": "https://localhost:8080/"
        },
        "id": "V8NNVqFd25fV",
        "outputId": "d35aa6f1-d0a4-4464-dd51-3bb6a52ef065"
      },
      "execution_count": null,
      "outputs": [
        {
          "output_type": "stream",
          "name": "stdout",
          "text": [
            "排序後新字典： ['Japan', 'Myanmar', 'South Korea', 'Taiwan', 'Thailand']\n"
          ]
        }
      ]
    },
    {
      "cell_type": "markdown",
      "source": [
        "## 題目三 (25%)\n",
        "\n",
        "班上有 4 位學生，他們分別有 3 科的考試成績，資料如下：\n",
        "\n",
        "```python\n",
        "scores = {\n",
        "    \"Linda\": [85, 90, 78],\n",
        "    \"Richard\": [72, 88, 91],\n",
        "    \"Una\": [90, 85, 87],\n",
        "    \"Brian\": [60, 75, 70]\n",
        "}\n",
        "```\n",
        "\n",
        "### 任務內容\n",
        "1. 計算每位學生的平均分數。\n",
        "2. 根據平均分數，判斷每位學生的成績評語：\n",
        "  - 平均分數 ≥ 85，評語為「優秀」\n",
        "  - 平均分數 ≥ 70 且 < 85，評語為「及格」\n",
        "  - 平均分數 < 70，評語為「需加強」\n",
        "\n",
        "3. 請印出每位學生的「平均分數」與「評語」。\n",
        "4. 額外統計：\n",
        "  - 計算全班的「總平均分數」。\n",
        "  - 找出「平均分數最高的學生」並印出其姓名與平均分數。\n",
        "\n",
        "\n"
      ],
      "metadata": {
        "id": "Hx3rNLDcZ-wy"
      }
    },
    {
      "cell_type": "code",
      "source": [
        "scores = {\n",
        "    \"Linda\": [85, 90, 78],\n",
        "    \"Richard\": [72, 88, 91],\n",
        "    \"Una\": [90, 85, 87],\n",
        "    \"Brian\": [60, 75, 70]\n",
        "}"
      ],
      "metadata": {
        "id": "nP29rYYA4BLZ"
      },
      "execution_count": null,
      "outputs": []
    },
    {
      "cell_type": "code",
      "source": [
        "# 問題一：計算每位學生的平均分數。\n",
        "\n",
        "for name, average in scores.items():\n",
        "  avg = sum(average)/len(average)\n",
        "  avg = round(avg, 2)\n",
        "  print(name, '平均分數 = ', avg)"
      ],
      "metadata": {
        "id": "bOx8kovoZ-_V",
        "colab": {
          "base_uri": "https://localhost:8080/"
        },
        "outputId": "3e947822-2bc3-404d-f2fc-bfc06d33177f"
      },
      "execution_count": null,
      "outputs": [
        {
          "output_type": "stream",
          "name": "stdout",
          "text": [
            "Linda 平均分數 =  84.33\n",
            "Richard 平均分數 =  83.67\n",
            "Una 平均分數 =  87.33\n",
            "Brian 平均分數 =  68.33\n"
          ]
        }
      ]
    },
    {
      "cell_type": "code",
      "source": [
        "# 問題二：根據平均分數，判斷每位學生的成績評語：\n",
        "for name, average in scores.items():\n",
        "  avg = sum(average)/len(average)\n",
        "  avg = round(avg, 2)\n",
        "  if avg >=85:\n",
        "    print(name, ':優秀')\n",
        "  elif avg >=70:\n",
        "    print(name, ':及格')\n",
        "  else:\n",
        "    print(name, ':需加強')"
      ],
      "metadata": {
        "colab": {
          "base_uri": "https://localhost:8080/"
        },
        "id": "Vv96YO9SV4Qs",
        "outputId": "cf4a1c9a-2cda-4640-fb1b-f1e816465df9"
      },
      "execution_count": null,
      "outputs": [
        {
          "output_type": "stream",
          "name": "stdout",
          "text": [
            "Linda :及格\n",
            "Richard :及格\n",
            "Una :優秀\n",
            "Brian :需加強\n"
          ]
        }
      ]
    },
    {
      "cell_type": "code",
      "source": [
        "# 問題三：請印出每位學生的「平均分數」與「評語」。\n",
        "for name, average in scores.items():\n",
        "  avg = sum(average)/len(average)\n",
        "  avg = round(avg, 2)\n",
        "  if avg >=85:\n",
        "    print(name, '的平均分數：', avg)\n",
        "    print('評語：優秀')\n",
        "  elif avg >=70:\n",
        "    print(name, '的平均分數：', avg)\n",
        "    print('評語：及格')\n",
        "  else:\n",
        "    print(name, '的平均分數：', avg)\n",
        "    print('評語：需加強')"
      ],
      "metadata": {
        "colab": {
          "base_uri": "https://localhost:8080/"
        },
        "id": "Z78hizi9WjmB",
        "outputId": "3d65e711-6553-40e0-dd78-27e46b01a584"
      },
      "execution_count": null,
      "outputs": [
        {
          "output_type": "stream",
          "name": "stdout",
          "text": [
            "Linda 的平均分數： 84.33\n",
            "評語：及格\n",
            "Richard 的平均分數： 83.67\n",
            "評語：及格\n",
            "Una 的平均分數： 87.33\n",
            "評語：優秀\n",
            "Brian 的平均分數： 68.33\n",
            "評語：需加強\n"
          ]
        }
      ]
    },
    {
      "cell_type": "code",
      "source": [
        "# 問題四：\n",
        "# 1. 計算全班的「總平均分數」。\n",
        "total_sum = 0\n",
        "total_count = 0\n",
        "\n",
        "for total in scores:\n",
        "  total = sum(scores[total]) / len(scores[total])\n",
        "  total_sum += total\n",
        "  total_count += 1\n",
        "\n",
        "\n",
        "print('全班的總平均分數：', round(total_sum/total_count, 2))\n",
        "\n",
        "# 2. 找出「平均分數最高的學生」並印出其姓名與平均分數。\n",
        "max_avg = 0\n",
        "max_name = \"\"\n",
        "\n",
        "for name, average in scores.items():\n",
        "  avg = sum(average)/len(average)\n",
        "  avg = round(avg, 2)\n",
        "\n",
        "  if avg > max_avg:\n",
        "    max_avg = avg\n",
        "    max_name = name\n",
        "\n",
        "print('平均分數最高的學生：', max_name, '，平均分數：', max_avg)"
      ],
      "metadata": {
        "colab": {
          "base_uri": "https://localhost:8080/"
        },
        "id": "bBTry-5TXwVe",
        "outputId": "e4d781ee-d1b2-46aa-d4cc-65689d46fc72"
      },
      "execution_count": null,
      "outputs": [
        {
          "output_type": "stream",
          "name": "stdout",
          "text": [
            "全班的總平均分數： 80.92\n",
            "平均分數最高的學生： Una ，平均分數： 87.33\n"
          ]
        }
      ]
    },
    {
      "cell_type": "markdown",
      "source": [
        "## 題目四 (25%)\n",
        "\n",
        "我們假設一組有效的密碼必須符合以下條件：\n",
        "\n",
        "- 長度大於 5 個字元\n",
        "- 必須包含：\n",
        "   - 大寫英文字母\n",
        "   - 小寫英文字母\n",
        "   - 數字\n",
        "- 不可以有空白  \n",
        "<br/>\n",
        "\n",
        "### 任務內容\n",
        "1. 請針對以上條件，撰寫一個函數 `check_password()`，判斷傳入的字串是否為有效密碼。如果輸入為有效密碼，函數將回傳 `Valid Password`；如果是無效密碼，函數回傳 `INVALID`。\n",
        "2. 請使用你的函數印出以下結果  \n",
        "```\n",
        "check_password(\"GenAI4Humanities\")\n",
        "check_password(\"genai4humanities\")\n",
        "check_password(\"GENAI4HUMANITIES\")\n",
        "check_password(\"GenAIGenAI\")\n",
        "check_password(\"GenAI 2025\")\n",
        "check_password(\"GenAI\")\n",
        "```"
      ],
      "metadata": {
        "id": "zSAycbMmZ_Ur"
      }
    },
    {
      "cell_type": "code",
      "source": [
        "check_password = input(\"請輸入預設密碼：\")\n",
        "\n",
        "if len(check_password) <= 5:\n",
        "  print(\"INVALID\")\n",
        "else:\n",
        "  has_upper = False\n",
        "  has_lower = False\n",
        "  has_digit = False\n",
        "\n",
        "  for char in check_password:\n",
        "    if char.isupper():\n",
        "      has_upper = True\n",
        "    elif char.islower():\n",
        "      has_lower = True\n",
        "    elif char.isdigit():\n",
        "      has_digit = True\n",
        "    elif char.isspace():\n",
        "      print(\"INVALID\")\n",
        "      break\n",
        "  else:\n",
        "    if has_upper and has_lower and has_digit:\n",
        "      print(\"Valid\")\n",
        "    else:\n",
        "      print(\"INVALID\")"
      ],
      "metadata": {
        "id": "tvYzrt9BaDkr",
        "colab": {
          "base_uri": "https://localhost:8080/"
        },
        "outputId": "85a5d96d-a5de-4c6f-dfe3-1ee37befaa05"
      },
      "execution_count": 12,
      "outputs": [
        {
          "output_type": "stream",
          "name": "stdout",
          "text": [
            "請輸入預設密碼：GenAI4Humanities\n",
            "Valid\n"
          ]
        }
      ]
    },
    {
      "cell_type": "code",
      "source": [],
      "metadata": {
        "id": "H_ccJGQq9wPi"
      },
      "execution_count": null,
      "outputs": []
    },
    {
      "cell_type": "code",
      "source": [
        "check_password = input(\"請輸入預設密碼：\")\n",
        "\n",
        "if len(check_password) <= 5:\n",
        "  print(\"INVALID\")\n",
        "else:\n",
        "  has_upper = False\n",
        "  has_lower = False\n",
        "  has_digit = False\n",
        "\n",
        "  for char in check_password:\n",
        "    if char.isupper():\n",
        "      has_upper = True\n",
        "    elif char.islower():\n",
        "      has_lower = True\n",
        "    elif char.isdigit():\n",
        "      has_digit = True\n",
        "    elif char.isspace():\n",
        "      print(\"INVALID\")\n",
        "      break\n",
        "  else:\n",
        "    if has_upper and has_lower and has_digit:\n",
        "      print(\"Valid Password\")\n",
        "    else:\n",
        "      print(\"INVALID\")"
      ],
      "metadata": {
        "colab": {
          "base_uri": "https://localhost:8080/"
        },
        "outputId": "a1c73361-aef7-4260-aa52-c88beaa836af",
        "id": "F4EpIuDw_ki0"
      },
      "execution_count": 10,
      "outputs": [
        {
          "output_type": "stream",
          "name": "stdout",
          "text": [
            "請輸入預設密碼：genai4humanities\n",
            "INVALID\n"
          ]
        }
      ]
    },
    {
      "cell_type": "code",
      "source": [
        "check_password = input(\"請輸入預設密碼：\")\n",
        "\n",
        "if len(check_password) <= 5:\n",
        "  print(\"INVALID\")\n",
        "else:\n",
        "  has_upper = False\n",
        "  has_lower = False\n",
        "  has_digit = False\n",
        "\n",
        "  for char in check_password:\n",
        "    if char.isupper():\n",
        "      has_upper = True\n",
        "    elif char.islower():\n",
        "      has_lower = True\n",
        "    elif char.isdigit():\n",
        "      has_digit = True\n",
        "    elif char.isspace():\n",
        "      print(\"INVALID\")\n",
        "      break\n",
        "  else:\n",
        "    if has_upper and has_lower and has_digit:\n",
        "      print(\"Valid\")\n",
        "    else:\n",
        "      print(\"INVALID\")"
      ],
      "metadata": {
        "colab": {
          "base_uri": "https://localhost:8080/"
        },
        "id": "6Luvi3s5_3h2",
        "outputId": "71613fcf-6f06-4681-acdd-c158045d52a2"
      },
      "execution_count": 13,
      "outputs": [
        {
          "output_type": "stream",
          "name": "stdout",
          "text": [
            "請輸入預設密碼：GENAI4HUMANITIES\n",
            "INVALID\n"
          ]
        }
      ]
    },
    {
      "cell_type": "code",
      "source": [
        "check_password = input(\"請輸入預設密碼：\")\n",
        "\n",
        "if len(check_password) <= 5:\n",
        "  print(\"INVALID\")\n",
        "else:\n",
        "  has_upper = False\n",
        "  has_lower = False\n",
        "  has_digit = False\n",
        "\n",
        "  for char in check_password:\n",
        "    if char.isupper():\n",
        "      has_upper = True\n",
        "    elif char.islower():\n",
        "      has_lower = True\n",
        "    elif char.isdigit():\n",
        "      has_digit = True\n",
        "    elif char.isspace():\n",
        "      print(\"INVALID\")\n",
        "      break\n",
        "  else:\n",
        "    if has_upper and has_lower and has_digit:\n",
        "      print(\"Valid\")\n",
        "    else:\n",
        "      print(\"INVALID\")"
      ],
      "metadata": {
        "colab": {
          "base_uri": "https://localhost:8080/"
        },
        "id": "PYRrPwL7AjfA",
        "outputId": "6a4623e0-42b0-4830-e221-1d5c46372788"
      },
      "execution_count": 14,
      "outputs": [
        {
          "output_type": "stream",
          "name": "stdout",
          "text": [
            "請輸入預設密碼：GenAIGenAI\n",
            "INVALID\n"
          ]
        }
      ]
    },
    {
      "cell_type": "code",
      "source": [
        "check_password = input(\"請輸入預設密碼：\")\n",
        "\n",
        "if len(check_password) <= 5:\n",
        "  print(\"INVALID\")\n",
        "else:\n",
        "  has_upper = False\n",
        "  has_lower = False\n",
        "  has_digit = False\n",
        "\n",
        "  for char in check_password:\n",
        "    if char.isupper():\n",
        "      has_upper = True\n",
        "    elif char.islower():\n",
        "      has_lower = True\n",
        "    elif char.isdigit():\n",
        "      has_digit = True\n",
        "    elif char.isspace():\n",
        "      print(\"INVALID\")\n",
        "      break\n",
        "  else:\n",
        "    if has_upper and has_lower and has_digit:\n",
        "      print(\"Valid\")\n",
        "    else:\n",
        "      print(\"INVALID\")"
      ],
      "metadata": {
        "colab": {
          "base_uri": "https://localhost:8080/"
        },
        "id": "ijJ29kzOAkVL",
        "outputId": "4962ca6f-4f07-476c-d1cc-1484136fece8"
      },
      "execution_count": 15,
      "outputs": [
        {
          "output_type": "stream",
          "name": "stdout",
          "text": [
            "請輸入預設密碼：GenAI 2025\n",
            "INVALID\n"
          ]
        }
      ]
    },
    {
      "cell_type": "code",
      "source": [
        "check_password = input(\"請輸入預設密碼：\")\n",
        "\n",
        "if len(check_password) <= 5:\n",
        "  print(\"INVALID\")\n",
        "else:\n",
        "  has_upper = False\n",
        "  has_lower = False\n",
        "  has_digit = False\n",
        "\n",
        "  for char in check_password:\n",
        "    if char.isupper():\n",
        "      has_upper = True\n",
        "    elif char.islower():\n",
        "      has_lower = True\n",
        "    elif char.isdigit():\n",
        "      has_digit = True\n",
        "    elif char.isspace():\n",
        "      print(\"INVALID\")\n",
        "      break\n",
        "  else:\n",
        "    if has_upper and has_lower and has_digit:\n",
        "      print(\"Valid\")\n",
        "    else:\n",
        "      print(\"INVALID\")"
      ],
      "metadata": {
        "colab": {
          "base_uri": "https://localhost:8080/"
        },
        "id": "IY44u_4TAuHB",
        "outputId": "bc087e05-9171-487f-d648-5e1043ac150f"
      },
      "execution_count": 16,
      "outputs": [
        {
          "output_type": "stream",
          "name": "stdout",
          "text": [
            "請輸入預設密碼：GenAI\n",
            "INVALID\n"
          ]
        }
      ]
    },
    {
      "cell_type": "code",
      "source": [],
      "metadata": {
        "id": "LK9G5IbJAz2A"
      },
      "execution_count": null,
      "outputs": []
    }
  ]
}