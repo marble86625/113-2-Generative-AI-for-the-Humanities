{
  "nbformat": 4,
  "nbformat_minor": 0,
  "metadata": {
    "colab": {
      "provenance": [],
      "include_colab_link": true
    },
    "kernelspec": {
      "name": "python3",
      "display_name": "Python 3"
    },
    "language_info": {
      "name": "python"
    }
  },
  "cells": [
    {
      "cell_type": "markdown",
      "metadata": {
        "id": "view-in-github",
        "colab_type": "text"
      },
      "source": [
        "<a href=\"https://colab.research.google.com/github/marble86625/113-2-Generative-AI-for-the-Humanities/blob/main/HW6.ipynb\" target=\"_parent\"><img src=\"https://colab.research.google.com/assets/colab-badge.svg\" alt=\"Open In Colab\"/></a>"
      ]
    },
    {
      "cell_type": "markdown",
      "source": [
        "# HW6_程式練習 (III)"
      ],
      "metadata": {
        "id": "sbArNYhfYPet"
      }
    },
    {
      "cell_type": "markdown",
      "source": [
        "這是一個關於現代奧運會的歷史資料集，包含從1896年雅典到2016年里約的所有賽事。[資料來源](https://www.kaggle.com/datasets/heesoo37/120-years-of-olympic-history-athletes-and-results)\n",
        "\n",
        "> **請注意**：直到1992年，夏季和冬季運動會是在同一年舉行的。之後它們就分開，冬季運動會在1994年開始，然後夏季運動會在1996年，再然後是冬季運動會在1998年，以此類推。分析這些數據時，人們常犯的一個錯誤是假設夏季和冬季運動會一直都是分開的。\n",
        "\n",
        "### 內容\n",
        "資料集 `athlete_events.csv` 包含271116個橫列和15個直欄。每個橫列對應一位運動員參加一個奧運賽事。這些直欄包括：\n",
        "\n",
        "- ID - 每個運動員的唯一編號\n",
        "- Name - 運動員的名字\n",
        "- Sex - 男（M）或女（F）\n",
        "- Age - 年齡（整數）\n",
        "- Height - 身高（以厘米為單位）\n",
        "- Weight - 體重（以千克為單位）\n",
        "- Team - 隊伍名稱\n",
        "- NOC - 國家奧林匹克委員會的3個字母代碼\n",
        "- Games - 奧運年份和賽季\n",
        "- Year - 奧運年份（整數）\n",
        "- Season - 奧運賽季（夏季或冬季）\n",
        "- City - 主辦城市\n",
        "- Sport - 運動項目\n",
        "- Event - 賽事\n",
        "- Medal - 獲得的獎牌（金牌、銀牌、銅牌或NA）"
      ],
      "metadata": {
        "id": "uZsKRr0fbAom"
      }
    },
    {
      "cell_type": "markdown",
      "source": [
        "## 題目一：依運動項目填補缺失值 (25%)\n",
        "\n",
        "\n",
        "### 📄 題目描述：\n",
        "\n",
        "本資料集中記錄了歷年奧運運動員的基本資訊，包括身高（`Height`）與體重（`Weight`）。由於有部分資料缺失，請你嘗試根據**相同運動項目（`Sport`）**的平均身高與體重，來填補這些缺失值。\n",
        "\n",
        "---\n",
        "\n",
        "### ✅ 任務要求：\n",
        "  1. 讀取資料集，將資料集存放在 `oly_df` 中並列印出來。\n",
        "  2. 針對資料中的 `Height` 和 `Weight` 欄位進行缺失值填補。\n",
        "  3. 填補方式為：\n",
        "   - 依據每個 `Sport` 的非缺失資料，分別計算 `Height` 與 `Weight` 的**平均值**。\n",
        "   - 將該運動項目中缺失的 `Height` 和 `Weight` 欄位，使用對應的平均值進行填補。\n",
        "  4. 如果某一個運動項目中，所有選手的 `Height` 或 `Weight` 值都是缺失的，請**略過此運動項目**，**不要嘗試填補**。\n",
        "  5. 請輸出以下資訊：\n",
        "   - 每個 `Sport` 對應的 `Height` 與 `Weight` 平均值。\n",
        "   - 補值後，`Height` 欄位中仍為缺失值的資料筆數\n",
        "   - 補值後，`Weight` 欄位中仍為缺失值的資料筆數"
      ],
      "metadata": {
        "id": "g95NT_3ebC4C"
      }
    },
    {
      "cell_type": "code",
      "source": [
        "### 非台大學生請執行以下程式碼獲取資料集 ###\n",
        "\n",
        "!gdown 1BzjcfGjxNl2VF_LBm8TxpVE6YykYZMhn\n",
        "\n",
        "### 非台大學生請執行以上程式碼獲取資料集 ###"
      ],
      "metadata": {
        "id": "cmNMG5uFffFK",
        "outputId": "6a8008af-4693-4602-cfab-3dedcae1635f",
        "colab": {
          "base_uri": "https://localhost:8080/"
        }
      },
      "execution_count": 3,
      "outputs": [
        {
          "output_type": "stream",
          "name": "stdout",
          "text": [
            "Downloading...\n",
            "From: https://drive.google.com/uc?id=1BzjcfGjxNl2VF_LBm8TxpVE6YykYZMhn\n",
            "To: /content/athlete_events.csv\n",
            "100% 41.5M/41.5M [00:00<00:00, 86.8MB/s]\n"
          ]
        }
      ]
    },
    {
      "cell_type": "code",
      "source": [
        "# 讀取資料集\n",
        "import pandas as pd\n",
        "oly_df = pd.read_csv('athlete_events.csv')\n",
        "\n",
        "print(oly_df)"
      ],
      "metadata": {
        "id": "94K8VDajW6ho",
        "outputId": "c2f56e00-b993-4e1a-cd2c-d9df3213bc76",
        "colab": {
          "base_uri": "https://localhost:8080/"
        }
      },
      "execution_count": 4,
      "outputs": [
        {
          "output_type": "stream",
          "name": "stdout",
          "text": [
            "            ID                      Name Sex   Age  Height  Weight  \\\n",
            "0            1                 A Dijiang   M  24.0   180.0    80.0   \n",
            "1            2                  A Lamusi   M  23.0   170.0    60.0   \n",
            "2            3       Gunnar Nielsen Aaby   M  24.0     NaN     NaN   \n",
            "3            4      Edgar Lindenau Aabye   M  34.0     NaN     NaN   \n",
            "4            5  Christine Jacoba Aaftink   F  21.0   185.0    82.0   \n",
            "...        ...                       ...  ..   ...     ...     ...   \n",
            "271111  135569                Andrzej ya   M  29.0   179.0    89.0   \n",
            "271112  135570                  Piotr ya   M  27.0   176.0    59.0   \n",
            "271113  135570                  Piotr ya   M  27.0   176.0    59.0   \n",
            "271114  135571        Tomasz Ireneusz ya   M  30.0   185.0    96.0   \n",
            "271115  135571        Tomasz Ireneusz ya   M  34.0   185.0    96.0   \n",
            "\n",
            "                  Team  NOC        Games  Year  Season            City  \\\n",
            "0                China  CHN  1992 Summer  1992  Summer       Barcelona   \n",
            "1                China  CHN  2012 Summer  2012  Summer          London   \n",
            "2              Denmark  DEN  1920 Summer  1920  Summer       Antwerpen   \n",
            "3       Denmark/Sweden  DEN  1900 Summer  1900  Summer           Paris   \n",
            "4          Netherlands  NED  1988 Winter  1988  Winter         Calgary   \n",
            "...                ...  ...          ...   ...     ...             ...   \n",
            "271111        Poland-1  POL  1976 Winter  1976  Winter       Innsbruck   \n",
            "271112          Poland  POL  2014 Winter  2014  Winter           Sochi   \n",
            "271113          Poland  POL  2014 Winter  2014  Winter           Sochi   \n",
            "271114          Poland  POL  1998 Winter  1998  Winter          Nagano   \n",
            "271115          Poland  POL  2002 Winter  2002  Winter  Salt Lake City   \n",
            "\n",
            "                Sport                                     Event Medal  \n",
            "0          Basketball               Basketball Men's Basketball   NaN  \n",
            "1                Judo              Judo Men's Extra-Lightweight   NaN  \n",
            "2            Football                   Football Men's Football   NaN  \n",
            "3          Tug-Of-War               Tug-Of-War Men's Tug-Of-War  Gold  \n",
            "4       Speed Skating          Speed Skating Women's 500 metres   NaN  \n",
            "...               ...                                       ...   ...  \n",
            "271111           Luge                Luge Mixed (Men)'s Doubles   NaN  \n",
            "271112    Ski Jumping  Ski Jumping Men's Large Hill, Individual   NaN  \n",
            "271113    Ski Jumping        Ski Jumping Men's Large Hill, Team   NaN  \n",
            "271114      Bobsleigh                      Bobsleigh Men's Four   NaN  \n",
            "271115      Bobsleigh                      Bobsleigh Men's Four   NaN  \n",
            "\n",
            "[271116 rows x 15 columns]\n"
          ]
        }
      ]
    },
    {
      "cell_type": "code",
      "source": [
        "# 依照運動項目，計算平均值\n",
        "sport_avg = oly_df.groupby('Sport')[['Height', 'Weight']].mean()\n",
        "\n",
        "print(sport_avg)"
      ],
      "metadata": {
        "id": "6FcQ1p1akDih",
        "outputId": "eeb236a8-1fb0-4d17-a6a5-34687afc9eea",
        "colab": {
          "base_uri": "https://localhost:8080/"
        }
      },
      "execution_count": 5,
      "outputs": [
        {
          "output_type": "stream",
          "name": "stdout",
          "text": [
            "                      Height     Weight\n",
            "Sport                                  \n",
            "Aeronautics              NaN        NaN\n",
            "Alpine Skiing     173.489052  72.068110\n",
            "Alpinism                 NaN        NaN\n",
            "Archery           173.203085  70.011135\n",
            "Art Competitions  174.644068  75.290909\n",
            "...                      ...        ...\n",
            "Tug-Of-War        182.480000  95.615385\n",
            "Volleyball        186.994822  78.900214\n",
            "Water Polo        184.834648  84.566446\n",
            "Weightlifting     167.824801  78.726663\n",
            "Wrestling         172.358586  75.495570\n",
            "\n",
            "[66 rows x 2 columns]\n"
          ]
        }
      ]
    },
    {
      "cell_type": "code",
      "source": [
        "# 找出缺值的格子，進行填補\n",
        "def fill_missing(row):\n",
        "  sport = row['Sport'] # 幫助我們在做迴圈時單筆檢視每個格子\n",
        "  if sport in sport_avg.index: # 檢查該運動項目是否在 sport_avg(若該項目所有Height, Weight缺失，不進行填補)\n",
        "    if pd.isna(row['Height']): #如果這位選手的 Height 是空值（缺資料），就執行下面的補值動作。\n",
        "      row['Height'] = sport_avg.loc[sport, 'Height'] # 查某個運動的平均值，使用 .loc[] 把對應資料撈出來。\n",
        "    if pd.isna(row['Weight']):\n",
        "      row['Weight'] = sport_avg.loc[sport, 'Weight']\n",
        "  return row\n",
        "\n",
        "# 更新DataFrame，將新的DataFrame存於新的資料集oly_filled_df(等式左邊)\n",
        "oly_filled_df = oly_df.apply(fill_missing, axis = 1)\n",
        "# df.apply(func, axis=1)   # 對每一「列」使用某個函式func\n",
        "# df.apply(func, axis=0)   # 對每一「欄」使用某個函式func\n"
      ],
      "metadata": {
        "id": "SLdSRFlwlZ3A"
      },
      "execution_count": 8,
      "outputs": []
    },
    {
      "cell_type": "code",
      "source": [
        "# 檢查新檔案中 height 和 weight 欄是否還有缺失值\n",
        "missing = oly_filled_df[['Height', 'Weight']].isna().sum() #雙層[]是因為要顯示回傳為DataFrame格式，而不是Series\n",
        "\n",
        "#顯示補值後，Height, Weight 欄位中仍為缺失值的資料筆數\n",
        "print(missing)"
      ],
      "metadata": {
        "id": "G3sMJosCZ2Ft",
        "outputId": "2cf0a66d-605b-48de-a5fb-fa57ef1a65fa",
        "colab": {
          "base_uri": "https://localhost:8080/"
        }
      },
      "execution_count": 10,
      "outputs": [
        {
          "output_type": "stream",
          "name": "stdout",
          "text": [
            "Height     99\n",
            "Weight    217\n",
            "dtype: int64\n"
          ]
        }
      ]
    },
    {
      "cell_type": "markdown",
      "source": [
        "## 題目二：統計各國獎牌數量（25%）\n",
        "\n",
        "### 📄 題目描述：\n",
        "\n",
        "本資料集中包含了運動員參加比賽的紀錄，其中 `Medal` 欄位記錄了選手是否獲得獎牌（金、銀、銅），`NOC` 欄位表示國家或地區的代碼（例如 USA、CHN、JPN 等）。\n",
        "\n",
        "請你統計出**每個國家**獲得的金牌、銀牌、銅牌，以及總獎牌數，並依據總獎牌數進行排序（由高至低）。\n",
        "\n",
        "---\n",
        "\n",
        "### ✅ 任務要求：\n",
        "\n",
        "1. 以 `NOC` 為單位，統計該國獲得的：\n",
        "   - 金牌（`Medal == \"Gold\"`）\n",
        "   - 銀牌（`Medal == \"Silver\"`）\n",
        "   - 銅牌（`Medal == \"Bronze\"`）\n",
        "2. 計算總獎牌數（上述三者加總）\n",
        "3. 將結果依照總獎牌數 `Total` 欄位由高至低排序。\n",
        "4. 輸出結果需包含以下欄位：\n",
        "   - `NOC`\n",
        "   - `Gold`\n",
        "   - `Silver`\n",
        "   - `Bronze`\n",
        "   - `Total`"
      ],
      "metadata": {
        "id": "cj2C5xDRdWny"
      }
    },
    {
      "cell_type": "code",
      "source": [
        "# 篩選出有獎牌的資料（排除 NaN）\n",
        "medal_df = oly_df[oly_df[\"Medal\"].notnull()]\n",
        "print(medal_df)"
      ],
      "metadata": {
        "id": "8z_F7Dsqy2Ak",
        "outputId": "3544e730-367b-4d67-91d5-fda216c6e497",
        "colab": {
          "base_uri": "https://localhost:8080/"
        }
      },
      "execution_count": 11,
      "outputs": [
        {
          "output_type": "stream",
          "name": "stdout",
          "text": [
            "            ID                                 Name Sex   Age  Height  Weight  \\\n",
            "3            4                 Edgar Lindenau Aabye   M  34.0     NaN     NaN   \n",
            "37          15                 Arvo Ossian Aaltonen   M  30.0     NaN     NaN   \n",
            "38          15                 Arvo Ossian Aaltonen   M  30.0     NaN     NaN   \n",
            "40          16             Juhamatti Tapio Aaltonen   M  28.0   184.0    85.0   \n",
            "41          17              Paavo Johannes Aaltonen   M  28.0   175.0    64.0   \n",
            "...        ...                                  ...  ..   ...     ...     ...   \n",
            "271078  135553  Galina Ivanovna Zybina (-Fyodorova)   F  25.0   168.0    80.0   \n",
            "271080  135553  Galina Ivanovna Zybina (-Fyodorova)   F  33.0   168.0    80.0   \n",
            "271082  135554                         Bogusaw Zych   M  28.0   182.0    82.0   \n",
            "271102  135563            Olesya Nikolayevna Zykina   F  19.0   171.0    64.0   \n",
            "271103  135563            Olesya Nikolayevna Zykina   F  23.0   171.0    64.0   \n",
            "\n",
            "                  Team  NOC        Games  Year  Season       City       Sport  \\\n",
            "3       Denmark/Sweden  DEN  1900 Summer  1900  Summer      Paris  Tug-Of-War   \n",
            "37             Finland  FIN  1920 Summer  1920  Summer  Antwerpen    Swimming   \n",
            "38             Finland  FIN  1920 Summer  1920  Summer  Antwerpen    Swimming   \n",
            "40             Finland  FIN  2014 Winter  2014  Winter      Sochi  Ice Hockey   \n",
            "41             Finland  FIN  1948 Summer  1948  Summer     London  Gymnastics   \n",
            "...                ...  ...          ...   ...     ...        ...         ...   \n",
            "271078    Soviet Union  URS  1956 Summer  1956  Summer  Melbourne   Athletics   \n",
            "271080    Soviet Union  URS  1964 Summer  1964  Summer      Tokyo   Athletics   \n",
            "271082          Poland  POL  1980 Summer  1980  Summer     Moskva     Fencing   \n",
            "271102          Russia  RUS  2000 Summer  2000  Summer     Sydney   Athletics   \n",
            "271103          Russia  RUS  2004 Summer  2004  Summer     Athina   Athletics   \n",
            "\n",
            "                                         Event   Medal  \n",
            "3                  Tug-Of-War Men's Tug-Of-War    Gold  \n",
            "37      Swimming Men's 200 metres Breaststroke  Bronze  \n",
            "38      Swimming Men's 400 metres Breaststroke  Bronze  \n",
            "40                 Ice Hockey Men's Ice Hockey  Bronze  \n",
            "41      Gymnastics Men's Individual All-Around  Bronze  \n",
            "...                                        ...     ...  \n",
            "271078              Athletics Women's Shot Put  Silver  \n",
            "271080              Athletics Women's Shot Put  Bronze  \n",
            "271082                Fencing Men's Foil, Team  Bronze  \n",
            "271102  Athletics Women's 4 x 400 metres Relay  Bronze  \n",
            "271103  Athletics Women's 4 x 400 metres Relay  Silver  \n",
            "\n",
            "[39783 rows x 15 columns]\n"
          ]
        }
      ]
    },
    {
      "cell_type": "code",
      "source": [
        "# 使用 pd.crosstab 交叉統計：每個 NOC 得到幾個金、銀、銅牌\n",
        "medal_count = pd.crosstab(medal_df[\"NOC\"], medal_df[\"Medal\"])\n",
        "print(medal_count)"
      ],
      "metadata": {
        "id": "ZWiby4GMfLM8",
        "outputId": "34c854ec-98c6-4991-ce48-b260bdd3743b",
        "colab": {
          "base_uri": "https://localhost:8080/"
        }
      },
      "execution_count": 12,
      "outputs": [
        {
          "output_type": "stream",
          "name": "stdout",
          "text": [
            "Medal  Bronze  Gold  Silver\n",
            "NOC                        \n",
            "AFG         2     0       0\n",
            "AHO         0     0       1\n",
            "ALG         8     5       4\n",
            "ANZ         5    20       4\n",
            "ARG        91    91      92\n",
            "..        ...   ...     ...\n",
            "VIE         0     1       3\n",
            "WIF         5     0       0\n",
            "YUG        93   130     167\n",
            "ZAM         1     0       1\n",
            "ZIM         1    17       4\n",
            "\n",
            "[149 rows x 3 columns]\n"
          ]
        }
      ]
    },
    {
      "cell_type": "code",
      "source": [
        "# 重新命名欄位名稱為 Gold, Silver, Bronze（順序會顛倒）\n",
        "medal_count = medal_count.rename(columns={\n",
        "    \"Gold\": \"Gold\",\n",
        "    \"Silver\": \"Silver\",\n",
        "    \"Bronze\": \"Bronze\"\n",
        "})\n",
        "\n",
        "# 確保所有三種牌都有欄位（有些國家可能沒得過某種牌）\n",
        "for col in [\"Gold\", \"Silver\", \"Bronze\"]:\n",
        "    if col not in medal_count.columns:\n",
        "        medal_count[col] = 0"
      ],
      "metadata": {
        "id": "0qdcm7KLfl7Q"
      },
      "execution_count": 13,
      "outputs": []
    },
    {
      "cell_type": "code",
      "source": [
        "# 計算總獎牌數\n",
        "medal_count[\"Total\"] = medal_count[\"Gold\"] + medal_count[\"Silver\"] + medal_count[\"Bronze\"]\n",
        "\n",
        "# 依照總獎牌數排序\n",
        "medal_sorted = medal_count.sort_values(by=\"Total\", ascending=False)\n",
        "\n",
        "# 強制重新排列欄位順序，金、銀、銅牌\n",
        "medal_count = medal_count[[\"Gold\", \"Silver\", \"Bronze\"]]\n",
        "\n",
        "# 重設索引，並把 NOC 從 index 變成欄位\n",
        "medal_sorted = medal_sorted.reset_index()\n",
        "\n",
        "# 顯示前幾名（你可以改成 medal_sorted.head(10) 看前 10 名）\n",
        "print(medal_sorted)"
      ],
      "metadata": {
        "id": "AwBx448vfxkl",
        "outputId": "ac070614-1a1f-4e8f-c671-b247ac6d52bc",
        "colab": {
          "base_uri": "https://localhost:8080/"
        }
      },
      "execution_count": 14,
      "outputs": [
        {
          "output_type": "stream",
          "name": "stdout",
          "text": [
            "Medal  NOC  Bronze  Gold  Silver  Total\n",
            "0      USA    1358  2638    1641   5637\n",
            "1      URS     689  1082     732   2503\n",
            "2      GER     746   745     674   2165\n",
            "3      GBR     651   678     739   2068\n",
            "4      FRA     666   501     610   1777\n",
            "..     ...     ...   ...     ...    ...\n",
            "144    NEP       0     1       0      1\n",
            "145    MRI       1     0       0      1\n",
            "146    TOG       1     0       0      1\n",
            "147    SUD       0     0       1      1\n",
            "148    TGA       0     0       1      1\n",
            "\n",
            "[149 rows x 5 columns]\n"
          ]
        }
      ]
    },
    {
      "cell_type": "markdown",
      "source": [
        "## 題目三：找出參賽人數最多的運動項目（25%）\n",
        "\n",
        "### ✅ 任務要求：\n",
        "\n",
        "1. 資料預處理：\n",
        "  - 移除重複的參賽者紀錄（提示：可使用 `ID`、`Year` 和 `Sport` 這三個欄位進行 `drop_duplicates()`）。\n",
        "\n",
        "2. 資料切分：\n",
        "  - 分別取出夏季奧運與冬季奧運的資料。\n",
        "\n",
        "4. 分別計算：\n",
        "  - 夏季奧運中，參賽人數最多的前 5 個運動項目\n",
        "  - 冬季奧運中，參賽人數最多的前 5 個運動項目\n",
        "\n",
        "5. 請印出這兩組熱門運動項目的名稱及對應人數"
      ],
      "metadata": {
        "id": "_Rq6O94pefrH"
      }
    },
    {
      "cell_type": "code",
      "source": [
        "# 去除重複的參賽者紀錄\n",
        "oly_df_unique = oly_df.drop_duplicates(subset = ['ID', 'Year', 'Sport'])"
      ],
      "metadata": {
        "id": "kC5Wnz17y0ai"
      },
      "execution_count": 15,
      "outputs": []
    },
    {
      "cell_type": "code",
      "source": [
        "# 資料切分：取出夏季奧運與冬季奧運的資料。\n",
        "summer_oly_df = oly_df_unique[oly_df_unique['Season'] == 'Summer']\n",
        "winter_oly_df = oly_df_unique[oly_df_unique['Season'] == 'Winter']\n",
        "\n",
        "print(summer_oly_df)\n",
        "print(winter_oly_df)"
      ],
      "metadata": {
        "id": "12lTesU_u8SV",
        "outputId": "464df063-f180-4f4b-f21f-a096bec14051",
        "colab": {
          "base_uri": "https://localhost:8080/"
        }
      },
      "execution_count": 19,
      "outputs": [
        {
          "output_type": "stream",
          "name": "stdout",
          "text": [
            "            ID                                Name Sex   Age  Height  Weight  \\\n",
            "0            1                           A Dijiang   M  24.0   180.0    80.0   \n",
            "1            2                            A Lamusi   M  23.0   170.0    60.0   \n",
            "2            3                 Gunnar Nielsen Aaby   M  24.0     NaN     NaN   \n",
            "3            4                Edgar Lindenau Aabye   M  34.0     NaN     NaN   \n",
            "26           8  Cornelia \"Cor\" Aalten (-Strannood)   F  18.0   168.0     NaN   \n",
            "...        ...                                 ...  ..   ...     ...     ...   \n",
            "271106  135565            Fernando scar Zylberberg   M  27.0   168.0    76.0   \n",
            "271107  135566          James Francis \"Jim\" Zylker   M  21.0   175.0    75.0   \n",
            "271108  135567        Aleksandr Viktorovich Zyuzin   M  24.0   183.0    72.0   \n",
            "271109  135567        Aleksandr Viktorovich Zyuzin   M  28.0   183.0    72.0   \n",
            "271110  135568              Olga Igorevna Zyuzkova   F  33.0   171.0    69.0   \n",
            "\n",
            "                  Team  NOC        Games  Year  Season            City  \\\n",
            "0                China  CHN  1992 Summer  1992  Summer       Barcelona   \n",
            "1                China  CHN  2012 Summer  2012  Summer          London   \n",
            "2              Denmark  DEN  1920 Summer  1920  Summer       Antwerpen   \n",
            "3       Denmark/Sweden  DEN  1900 Summer  1900  Summer           Paris   \n",
            "26         Netherlands  NED  1932 Summer  1932  Summer     Los Angeles   \n",
            "...                ...  ...          ...   ...     ...             ...   \n",
            "271106       Argentina  ARG  2004 Summer  2004  Summer          Athina   \n",
            "271107   United States  USA  1972 Summer  1972  Summer          Munich   \n",
            "271108          Russia  RUS  2000 Summer  2000  Summer          Sydney   \n",
            "271109          Russia  RUS  2004 Summer  2004  Summer          Athina   \n",
            "271110         Belarus  BLR  2016 Summer  2016  Summer  Rio de Janeiro   \n",
            "\n",
            "             Sport                                   Event Medal  \n",
            "0       Basketball             Basketball Men's Basketball   NaN  \n",
            "1             Judo            Judo Men's Extra-Lightweight   NaN  \n",
            "2         Football                 Football Men's Football   NaN  \n",
            "3       Tug-Of-War             Tug-Of-War Men's Tug-Of-War  Gold  \n",
            "26       Athletics            Athletics Women's 100 metres   NaN  \n",
            "...            ...                                     ...   ...  \n",
            "271106      Hockey                     Hockey Men's Hockey   NaN  \n",
            "271107    Football                 Football Men's Football   NaN  \n",
            "271108      Rowing  Rowing Men's Lightweight Coxless Fours   NaN  \n",
            "271109      Rowing  Rowing Men's Lightweight Coxless Fours   NaN  \n",
            "271110  Basketball           Basketball Women's Basketball   NaN  \n",
            "\n",
            "[159249 rows x 15 columns]\n",
            "            ID                          Name Sex   Age  Height  Weight  \\\n",
            "4            5      Christine Jacoba Aaftink   F  21.0   185.0    82.0   \n",
            "6            5      Christine Jacoba Aaftink   F  25.0   185.0    82.0   \n",
            "8            5      Christine Jacoba Aaftink   F  27.0   185.0    82.0   \n",
            "10           6               Per Knut Aaland   M  31.0   188.0    75.0   \n",
            "14           6               Per Knut Aaland   M  33.0   188.0    75.0   \n",
            "...        ...                           ...  ..   ...     ...     ...   \n",
            "271104  135564  Yevgeny Aleksandrovich Zykov   M  22.0   172.0    65.0   \n",
            "271111  135569                    Andrzej ya   M  29.0   179.0    89.0   \n",
            "271112  135570                      Piotr ya   M  27.0   176.0    59.0   \n",
            "271114  135571            Tomasz Ireneusz ya   M  30.0   185.0    96.0   \n",
            "271115  135571            Tomasz Ireneusz ya   M  34.0   185.0    96.0   \n",
            "\n",
            "                 Team  NOC        Games  Year  Season            City  \\\n",
            "4         Netherlands  NED  1988 Winter  1988  Winter         Calgary   \n",
            "6         Netherlands  NED  1992 Winter  1992  Winter     Albertville   \n",
            "8         Netherlands  NED  1994 Winter  1994  Winter     Lillehammer   \n",
            "10      United States  USA  1992 Winter  1992  Winter     Albertville   \n",
            "14      United States  USA  1994 Winter  1994  Winter     Lillehammer   \n",
            "...               ...  ...          ...   ...     ...             ...   \n",
            "271104       Russia-1  RUS  2002 Winter  2002  Winter  Salt Lake City   \n",
            "271111       Poland-1  POL  1976 Winter  1976  Winter       Innsbruck   \n",
            "271112         Poland  POL  2014 Winter  2014  Winter           Sochi   \n",
            "271114         Poland  POL  1998 Winter  1998  Winter          Nagano   \n",
            "271115         Poland  POL  2002 Winter  2002  Winter  Salt Lake City   \n",
            "\n",
            "                       Sport                                     Event Medal  \n",
            "4              Speed Skating          Speed Skating Women's 500 metres   NaN  \n",
            "6              Speed Skating          Speed Skating Women's 500 metres   NaN  \n",
            "8              Speed Skating          Speed Skating Women's 500 metres   NaN  \n",
            "10      Cross Country Skiing  Cross Country Skiing Men's 10 kilometres   NaN  \n",
            "14      Cross Country Skiing  Cross Country Skiing Men's 10 kilometres   NaN  \n",
            "...                      ...                                       ...   ...  \n",
            "271104                  Luge                Luge Mixed (Men)'s Doubles   NaN  \n",
            "271111                  Luge                Luge Mixed (Men)'s Doubles   NaN  \n",
            "271112           Ski Jumping  Ski Jumping Men's Large Hill, Individual   NaN  \n",
            "271114             Bobsleigh                      Bobsleigh Men's Four   NaN  \n",
            "271115             Bobsleigh                      Bobsleigh Men's Four   NaN  \n",
            "\n",
            "[28920 rows x 15 columns]\n"
          ]
        }
      ]
    },
    {
      "cell_type": "code",
      "source": [
        "# 夏季奧運中，參賽人數最多的前 5 個運動項目\n",
        "summer_top5 = summer_oly_df['Sport'].value_counts().head(5) #.value_counts()：統計某個欄位中每個唯一值出現的次數，也就是「分組次數統計」\n",
        "print(\"夏季奧運參賽人數最多的前 5 個運動項目：\")\n",
        "print(summer_top5)\n",
        "\n",
        "# 冬季奧運中，參賽人數最多的前 5 個運動項目\n",
        "winter_top5 = winter_oly_df['Sport'].value_counts().head(5)\n",
        "print(\"冬季奧運參賽人數最多的前 5 個運動項目：\")\n",
        "print(winter_top5)"
      ],
      "metadata": {
        "id": "kq7Q19Xsvme3",
        "outputId": "62a610e0-955e-443d-a254-7051135a2eff",
        "colab": {
          "base_uri": "https://localhost:8080/"
        }
      },
      "execution_count": 29,
      "outputs": [
        {
          "output_type": "stream",
          "name": "stdout",
          "text": [
            "夏季奧運參賽人數最多的前 5 個運動項目：\n",
            "Sport\n",
            "Athletics    30536\n",
            "Swimming     11935\n",
            "Rowing       10223\n",
            "Cycling       7540\n",
            "Shooting      7471\n",
            "Name: count, dtype: int64\n",
            "冬季奧運參賽人數最多的前 5 個運動項目：\n",
            "Sport\n",
            "Ice Hockey              5456\n",
            "Alpine Skiing           4120\n",
            "Cross Country Skiing    3731\n",
            "Speed Skating           2544\n",
            "Bobsleigh               2345\n",
            "Name: count, dtype: int64\n"
          ]
        }
      ]
    },
    {
      "cell_type": "markdown",
      "source": [
        "## 題目四：畫出熱門運動項目的參與變化圖（25%）\n",
        "\n",
        "### ✅ 任務要求：\n",
        "\n",
        "1. 承上題，將上述統計結果畫成兩張堆疊長條圖（stacked bar chart）：\n",
        "  - 圖一：夏季奧運熱門運動項目變化圖。\n",
        "  - 圖二：冬季奧運熱門運動項目變化圖。\n",
        "\n",
        "\n",
        "2. 視覺化要求：\n",
        "  - `x` 軸為 `Year`，`y` 軸為 `No. of People Participated in Sport`\n",
        "  - 每個堆疊的顏色區塊代表一個熱門運動項目\n",
        "  - 圖片大小為 `(15, 6)`\n",
        "  - 請為每張圖加上適當的標題，如：\n",
        "    - `\"Top 5 Sports Participation - Summer Olympics\"`\n",
        "    - `\"Top 5 Sports Participation - Winter Olympics\"`\n",
        "  - 圖中應包含圖例（Legend），標示每種運動所代表的顏色\n",
        "\n"
      ],
      "metadata": {
        "id": "QCw_rk1DqZsh"
      }
    },
    {
      "cell_type": "code",
      "source": [
        "import matplotlib.pyplot as plt\n",
        "\n",
        "# 取得 top5 的運動項目名稱\n",
        "summer_top5_sports = summer_top5.index\n",
        "winter_top5_sports = winter_top5.index\n",
        "\n",
        "# 篩選這些運動\n",
        "summer_top5_df = summer_oly_df[summer_oly_df['Sport'].isin(summer_top5_sports)]\n",
        "winter_top5_df = winter_oly_df[winter_oly_df['Sport'].isin(winter_top5_sports)]\n",
        "\n",
        "# 分組：Year vs Sport，計算每年每個運動的人數\n",
        "summer_grouped = summer_top5_df.groupby(['Year', 'Sport']).size().unstack().fillna(0)\n",
        "winter_grouped = winter_top5_df.groupby(['Year', 'Sport']).size().unstack().fillna(0)\n",
        "\n",
        "# 畫夏季奧運圖\n",
        "plt.figure(figsize=(15, 6))\n",
        "summer_grouped.plot(kind='bar', stacked=True, colormap='tab10')\n",
        "plt.title(\"Top 5 Sports Participation - Summer Olympics\")\n",
        "plt.xlabel(\"Year\")\n",
        "plt.ylabel(\"No. of People Participated\")\n",
        "plt.legend(title=\"Sport\", bbox_to_anchor=(1.05, 1), loc='upper left')\n",
        "plt.tight_layout()\n",
        "plt.show()\n",
        "\n",
        "# 畫冬季奧運圖\n",
        "plt.figure(figsize=(15, 6))\n",
        "winter_grouped.plot(kind='bar', stacked=True, colormap='tab10')\n",
        "plt.title(\"Top 5 Sports Participation - Winter Olympics\")\n",
        "plt.xlabel(\"Year\")\n",
        "plt.ylabel(\"No. of People Participated\")\n",
        "plt.legend(title=\"Sport\", bbox_to_anchor=(1.05, 1), loc='upper left')\n",
        "plt.tight_layout()\n",
        "plt.show()"
      ],
      "metadata": {
        "id": "ABTJsnUdy04S",
        "outputId": "5e147dd7-c8c0-4381-9553-e46560ef56c0",
        "colab": {
          "base_uri": "https://localhost:8080/",
          "height": 992
        }
      },
      "execution_count": 31,
      "outputs": [
        {
          "output_type": "display_data",
          "data": {
            "text/plain": [
              "<Figure size 1500x600 with 0 Axes>"
            ]
          },
          "metadata": {}
        },
        {
          "output_type": "display_data",
          "data": {
            "text/plain": [
              "<Figure size 640x480 with 1 Axes>"
            ],
            "image/png": "[encoded data removed]"
          },
          "metadata": {}
        },
        {
          "output_type": "display_data",
          "data": {
            "text/plain": [
              "<Figure size 1500x600 with 0 Axes>"
            ]
          },
          "metadata": {}
        },
        {
          "output_type": "display_data",
          "data": {
            "text/plain": [
              "<Figure size 640x480 with 1 Axes>"
            ],
            "image/png": "[encoded data removed]"
          },
          "metadata": {}
        }
      ]
    },
    {
      "cell_type": "code",
      "source": [],
      "metadata": {
        "id": "HfTKwRUUy2hC"
      },
      "execution_count": null,
      "outputs": []
    }
  ]
}